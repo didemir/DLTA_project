{
 "cells": [
  {
   "cell_type": "code",
   "execution_count": 2,
   "id": "df0a46ad",
   "metadata": {},
   "outputs": [],
   "source": [
    "import pandas as pd\n",
    "ASPECT_PTH = \"dataset/aspect_data/review_with_aspect.jsonl\"\n",
    "aspects_df = pd.read_json(ASPECT_PTH, lines=True)"
   ]
  },
  {
   "cell_type": "code",
   "execution_count": 4,
   "id": "42cb5e89",
   "metadata": {},
   "outputs": [
    {
     "name": "stdout",
     "output_type": "stream",
     "text": [
      "<class 'pandas.core.frame.DataFrame'>\n",
      "RangeIndex: 25986 entries, 0 to 25985\n",
      "Data columns (total 3 columns):\n",
      " #   Column  Non-Null Count  Dtype \n",
      "---  ------  --------------  ----- \n",
      " 0   id      25986 non-null  object\n",
      " 1   text    25986 non-null  object\n",
      " 2   labels  25986 non-null  object\n",
      "dtypes: object(3)\n",
      "memory usage: 609.2+ KB\n"
     ]
    }
   ],
   "source": [
    "aspects_df.info()"
   ]
  },
  {
   "cell_type": "code",
   "execution_count": 5,
   "id": "2e075607",
   "metadata": {},
   "outputs": [
    {
     "data": {
      "text/plain": [
       "8742"
      ]
     },
     "execution_count": 5,
     "metadata": {},
     "output_type": "execute_result"
    }
   ],
   "source": [
    "aspects_df[\"id\"].nunique()"
   ]
  },
  {
   "cell_type": "code",
   "execution_count": 8,
   "id": "1683737e",
   "metadata": {},
   "outputs": [
    {
     "data": {
      "text/plain": [
       "5154"
      ]
     },
     "execution_count": 8,
     "metadata": {},
     "output_type": "execute_result"
    }
   ],
   "source": [
    "aspects_df[aspects_df[\"id\"].str.startswith(\"ICLR\")][\"id\"].nunique()"
   ]
  },
  {
   "cell_type": "code",
   "execution_count": 9,
   "id": "cedf2fe4",
   "metadata": {},
   "outputs": [
    {
     "data": {
      "text/plain": [
       "3588"
      ]
     },
     "execution_count": 9,
     "metadata": {},
     "output_type": "execute_result"
    }
   ],
   "source": [
    "aspects_df[aspects_df[\"id\"].str.startswith(\"NIPS\")][\"id\"].nunique()"
   ]
  },
  {
   "cell_type": "code",
   "execution_count": 10,
   "id": "fadda23f",
   "metadata": {},
   "outputs": [
    {
     "data": {
      "text/html": [
       "<div>\n",
       "<style scoped>\n",
       "    .dataframe tbody tr th:only-of-type {\n",
       "        vertical-align: middle;\n",
       "    }\n",
       "\n",
       "    .dataframe tbody tr th {\n",
       "        vertical-align: top;\n",
       "    }\n",
       "\n",
       "    .dataframe thead th {\n",
       "        text-align: right;\n",
       "    }\n",
       "</style>\n",
       "<table border=\"1\" class=\"dataframe\">\n",
       "  <thead>\n",
       "    <tr style=\"text-align: right;\">\n",
       "      <th></th>\n",
       "      <th>id</th>\n",
       "      <th>text</th>\n",
       "      <th>labels</th>\n",
       "    </tr>\n",
       "  </thead>\n",
       "  <tbody>\n",
       "    <tr>\n",
       "      <th>0</th>\n",
       "      <td>ICLR_2020_1123</td>\n",
       "      <td>This work studies the predictive uncertainty i...</td>\n",
       "      <td>[[0, 1029, summary], [1030, 1201, motivation_p...</td>\n",
       "    </tr>\n",
       "    <tr>\n",
       "      <th>1</th>\n",
       "      <td>ICLR_2018_813</td>\n",
       "      <td>Summary : This paper proposes a new approach t...</td>\n",
       "      <td>[[10, 1038, summary], [1054, 1082, motivation_...</td>\n",
       "    </tr>\n",
       "    <tr>\n",
       "      <th>2</th>\n",
       "      <td>NIPS_2019_796</td>\n",
       "      <td>The paper proposes a graph neural network base...</td>\n",
       "      <td>[[0, 469, summary], [470, 532, clarity_positiv...</td>\n",
       "    </tr>\n",
       "    <tr>\n",
       "      <th>3</th>\n",
       "      <td>ICLR_2018_726</td>\n",
       "      <td>Summary : This paper proposes an encoder-decod...</td>\n",
       "      <td>[[10, 599, summary], [870, 1076, substance_neg...</td>\n",
       "    </tr>\n",
       "    <tr>\n",
       "      <th>4</th>\n",
       "      <td>NIPS_2016_477</td>\n",
       "      <td>The authors present sharp criteria for l_1-spa...</td>\n",
       "      <td>[[0, 1223, summary], [1314, 1354, soundness_po...</td>\n",
       "    </tr>\n",
       "  </tbody>\n",
       "</table>\n",
       "</div>"
      ],
      "text/plain": [
       "               id                                               text  \\\n",
       "0  ICLR_2020_1123  This work studies the predictive uncertainty i...   \n",
       "1   ICLR_2018_813  Summary : This paper proposes a new approach t...   \n",
       "2   NIPS_2019_796  The paper proposes a graph neural network base...   \n",
       "3   ICLR_2018_726  Summary : This paper proposes an encoder-decod...   \n",
       "4   NIPS_2016_477  The authors present sharp criteria for l_1-spa...   \n",
       "\n",
       "                                              labels  \n",
       "0  [[0, 1029, summary], [1030, 1201, motivation_p...  \n",
       "1  [[10, 1038, summary], [1054, 1082, motivation_...  \n",
       "2  [[0, 469, summary], [470, 532, clarity_positiv...  \n",
       "3  [[10, 599, summary], [870, 1076, substance_neg...  \n",
       "4  [[0, 1223, summary], [1314, 1354, soundness_po...  "
      ]
     },
     "execution_count": 10,
     "metadata": {},
     "output_type": "execute_result"
    }
   ],
   "source": [
    "aspects_df.head()"
   ]
  },
  {
   "cell_type": "code",
   "execution_count": 11,
   "id": "00e1027c",
   "metadata": {},
   "outputs": [
    {
     "data": {
      "text/plain": [
       "[[0, 1029, 'summary'],\n",
       " [1030, 1201, 'motivation_positive'],\n",
       " [1204, 1292, 'clarity_positive'],\n",
       " [1293, 1409, 'soundness_negative'],\n",
       " [1555, 1656, 'substance_negative'],\n",
       " [1973, 1998, 'meaningful_comparison_negative'],\n",
       " [3389, 3508, 'soundness_negative']]"
      ]
     },
     "execution_count": 11,
     "metadata": {},
     "output_type": "execute_result"
    }
   ],
   "source": [
    "aspects_df[\"labels\"][0]"
   ]
  },
  {
   "cell_type": "code",
   "execution_count": 12,
   "id": "308afc8c",
   "metadata": {},
   "outputs": [
    {
     "data": {
      "text/plain": [
       "list"
      ]
     },
     "execution_count": 12,
     "metadata": {},
     "output_type": "execute_result"
    }
   ],
   "source": [
    "type(aspects_df[\"labels\"][0])"
   ]
  },
  {
   "cell_type": "code",
   "execution_count": 13,
   "id": "4b4feb02",
   "metadata": {},
   "outputs": [
    {
     "data": {
      "text/plain": [
       "['summary',\n",
       " 'motivation_positive',\n",
       " 'clarity_positive',\n",
       " 'soundness_negative',\n",
       " 'substance_negative',\n",
       " 'meaningful_comparison_negative',\n",
       " 'soundness_negative']"
      ]
     },
     "execution_count": 13,
     "metadata": {},
     "output_type": "execute_result"
    }
   ],
   "source": [
    "[l[2] for l in aspects_df[\"labels\"][0]]"
   ]
  },
  {
   "cell_type": "code",
   "execution_count": 15,
   "id": "115cb4f4",
   "metadata": {},
   "outputs": [
    {
     "data": {
      "text/plain": [
       "Counter({'summary': 23946,\n",
       "         'clarity_negative': 15697,\n",
       "         'soundness_negative': 15662,\n",
       "         'clarity_positive': 13095,\n",
       "         'soundness_positive': 12780,\n",
       "         'substance_negative': 11717,\n",
       "         'originality_positive': 11606,\n",
       "         'motivation_positive': 11121,\n",
       "         'meaningful_comparison_negative': 9242,\n",
       "         'originality_negative': 8745,\n",
       "         'substance_positive': 4669,\n",
       "         'replicability_negative': 4548,\n",
       "         'motivation_negative': 3499,\n",
       "         'meaningful_comparison_positive': 1488,\n",
       "         'replicability_positive': 271})"
      ]
     },
     "execution_count": 15,
     "metadata": {},
     "output_type": "execute_result"
    }
   ],
   "source": [
    "labels = [i[2] for d in aspects_df[\"labels\"] for i in d]\n",
    "\n",
    "from collections import Counter\n",
    "label_counts = Counter(labels)\n",
    "label_counts"
   ]
  },
  {
   "cell_type": "code",
   "execution_count": null,
   "id": "5e7e0992",
   "metadata": {},
   "outputs": [],
   "source": []
  },
  {
   "cell_type": "code",
   "execution_count": null,
   "id": "8c60de4c",
   "metadata": {},
   "outputs": [],
   "source": []
  }
 ],
 "metadata": {
  "kernelspec": {
   "display_name": ".venv",
   "language": "python",
   "name": "python3"
  },
  "language_info": {
   "codemirror_mode": {
    "name": "ipython",
    "version": 3
   },
   "file_extension": ".py",
   "mimetype": "text/x-python",
   "name": "python",
   "nbconvert_exporter": "python",
   "pygments_lexer": "ipython3",
   "version": "3.11.9"
  }
 },
 "nbformat": 4,
 "nbformat_minor": 5
}
